{
 "cells": [
  {
   "cell_type": "markdown",
   "metadata": {},
   "source": [
    "# biodiversity\n",
    " Codecademy portfolio, biodiversity project\n",
    "\n",
    "## Questions to Investigate\n",
    "1. Observed species diversity per park\n",
    "2. Weighted (by number of observations) species diversity per park\n",
    "3. Total number of counts per species\n",
    "4. Relative frequency of observations of each species, per park and overall\n",
    "5. Relate each of these to species conservation status, per park and overall\n",
    "\n",
    "With additional data on park sizes, calculate observation densities (overall and per species) per park, along with conservation status; also, total figures for all parks."
   ]
  },
  {
   "cell_type": "code",
   "execution_count": null,
   "metadata": {},
   "outputs": [],
   "source": [
    "import pandas as pd\n",
    "import numpy as np\n",
    "import matplotlib.pyplot as plt\n",
    "import seaborn as sns\n"
   ]
  },
  {
   "cell_type": "code",
   "execution_count": null,
   "metadata": {},
   "outputs": [],
   "source": []
  }
 ],
 "metadata": {
  "kernelspec": {
   "display_name": "Python 3 (ipykernel)",
   "language": "python",
   "name": "python3"
  },
  "language_info": {
   "codemirror_mode": {
    "name": "ipython",
    "version": 3
   },
   "file_extension": ".py",
   "mimetype": "text/x-python",
   "name": "python",
   "nbconvert_exporter": "python",
   "pygments_lexer": "ipython3",
   "version": "3.9.17"
  }
 },
 "nbformat": 4,
 "nbformat_minor": 4
}
