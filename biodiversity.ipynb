{
 "cells": [
  {
   "cell_type": "markdown",
   "metadata": {},
   "source": [
    "# biodiversity\n",
    " Codecademy portfolio, biodiversity project\n",
    "\n",
    "## Questions to Investigate\n",
    "1. Observed species diversity per park\n",
    "2. Weighted (by number of observations) species diversity per park\n",
    "3. Total number of counts per species\n",
    "4. Relative frequency of observations of each species, per park and overall\n",
    "5. Relate each of these to species conservation status, per park and overall\n",
    "\n",
    "With additional data on park sizes, calculate observation densities (overall and per species) per park, along with conservation status; also, total figures for all parks."
   ]
  },
  {
   "cell_type": "code",
   "execution_count": 24,
   "metadata": {},
   "outputs": [],
   "source": [
    "import pandas as pd\n",
    "import numpy as np\n",
    "import matplotlib.pyplot as plt\n",
    "import seaborn as sns\n"
   ]
  },
  {
   "cell_type": "markdown",
   "metadata": {},
   "source": [
    "load in our starting data"
   ]
  },
  {
   "cell_type": "code",
   "execution_count": 35,
   "metadata": {},
   "outputs": [
    {
     "name": "stdout",
     "output_type": "stream",
     "text": [
      "Observation - first 5 rows\n",
      "            scientific_name                            park_name  observations\n",
      "0        Vicia benghalensis  Great Smoky Mountains National Park            68\n",
      "1            Neovison vison  Great Smoky Mountains National Park            77\n",
      "2         Prunus subcordata               Yosemite National Park           138\n",
      "3      Abutilon theophrasti                  Bryce National Park            84\n",
      "4  Githopsis specularioides  Great Smoky Mountains National Park            85\n",
      "\n",
      "Species - first 5 rows\n",
      "  category                scientific_name  \\\n",
      "0   Mammal  Clethrionomys gapperi gapperi   \n",
      "1   Mammal                      Bos bison   \n",
      "2   Mammal                     Bos taurus   \n",
      "3   Mammal                     Ovis aries   \n",
      "4   Mammal                 Cervus elaphus   \n",
      "\n",
      "                                        common_names conservation_status  \n",
      "0                           Gapper's Red-Backed Vole                 NaN  \n",
      "1                              American Bison, Bison                 NaN  \n",
      "2  Aurochs, Aurochs, Domestic Cattle (Feral), Dom...                 NaN  \n",
      "3  Domestic Sheep, Mouflon, Red Sheep, Sheep (Feral)                 NaN  \n",
      "4                                      Wapiti Or Elk                 NaN  \n",
      "\n",
      "\n",
      "Observations info\n",
      "<class 'pandas.core.frame.DataFrame'>\n",
      "RangeIndex: 23296 entries, 0 to 23295\n",
      "Data columns (total 3 columns):\n",
      " #   Column           Non-Null Count  Dtype \n",
      "---  ------           --------------  ----- \n",
      " 0   scientific_name  23296 non-null  object\n",
      " 1   park_name        23296 non-null  object\n",
      " 2   observations     23296 non-null  int64 \n",
      "dtypes: int64(1), object(2)\n",
      "memory usage: 546.1+ KB\n",
      "None\n",
      "\n",
      "Observations.describe\n",
      "       observations\n",
      "count  23296.000000\n",
      "mean     142.287904\n",
      "std       69.890532\n",
      "min        9.000000\n",
      "25%       86.000000\n",
      "50%      124.000000\n",
      "75%      195.000000\n",
      "max      321.000000\n",
      "\\Observations - missing values\n",
      "\n",
      " scientific_name has 23296 observations and is missing 0 observations\n",
      "\n",
      " park_name has 23296 observations and is missing 0 observations\n",
      "\n",
      " observations has 23296 observations and is missing 0 observations\n",
      "<class 'pandas.core.frame.DataFrame'>\n",
      "RangeIndex: 5824 entries, 0 to 5823\n",
      "Data columns (total 4 columns):\n",
      " #   Column               Non-Null Count  Dtype \n",
      "---  ------               --------------  ----- \n",
      " 0   category             5824 non-null   object\n",
      " 1   scientific_name      5824 non-null   object\n",
      " 2   common_names         5824 non-null   object\n",
      " 3   conservation_status  191 non-null    object\n",
      "dtypes: object(4)\n",
      "memory usage: 182.1+ KB\n",
      "None\n",
      "       observations\n",
      "count  23296.000000\n",
      "mean     142.287904\n",
      "std       69.890532\n",
      "min        9.000000\n",
      "25%       86.000000\n",
      "50%      124.000000\n",
      "75%      195.000000\n",
      "max      321.000000\n"
     ]
    }
   ],
   "source": [
    "observations = pd.read_csv(\"observations.csv\")\n",
    "species_info = pd.read_csv(\"species_info.csv\")\n",
    "\n",
    "print(\"Observation - first 5 rows\")\n",
    "print(observations.head())\n",
    "print(\"\\nSpecies - first 5 rows\")\n",
    "print(species_info.head())\n",
    "\n",
    "print(\"\\n\\nObservations info\")\n",
    "print(observations.info())\n",
    "print(\"\\nObservations.describe\")\n",
    "print(observations.describe())\n",
    "print(\"\\Observations - missing values\")\n",
    "l = len(observations)\n",
    "for column in observations.columns:\n",
    "    v = observations[column].count()\n",
    "    print(\"\\n\", column, \"has\", v, \"observations and is missing\", l-v, \"observations\")\n",
    "\n",
    "print(species_info.info())\n",
    "print(observations.describe())"
   ]
  },
  {
   "cell_type": "markdown",
   "metadata": {},
   "source": [
    "Getting the names of the parks being reported. This information will allow me to collect park size and mean elevation data from Wikipedia (rather than trying to locate a dataset with this information). The column with park names in it is called \"park_name\" in the observations dataset. Note that the formal name of \"Bryce National Park\" is Bryce Canyon National Park.\n",
    "\n",
    "Park size data from wikipedia:\n",
    "1. Bryce Canyon National Park https://en.wikipedia.org/wiki/Bryce_Canyon_National_Park\n",
    "2. Great Smoky Mountains National Park https://en.wikipedia.org/wiki/Great_Smoky_Mountains_National_Park\n",
    "3. Yellowstone National Park https://en.wikipedia.org/wiki/Yellowstone_National_Park\n",
    "4. Yosemite National Park https://en.wikipedia.org/wiki/Yosemite_National_Park\n",
    "\n",
    "Elevation data came from \n",
    "1. Bryce Canyon National Park https://en-us.topographic-map.com/map-2v4grr/Bryce-Canyon-National-Park/\n",
    "2. Great Smoky Mountains National Park https://en-us.topographic-map.com/map-tl7nh/Great-Smoky-Mountains-National-Park/\n",
    "3. Yellowstone National Park https://en-us.topographic-map.com/map-d1vcz/Yellowstone-National-Park/\n",
    "4. Yosemite National Park https://en-us.topographic-map.com/map-ddnftf/Yosemite-National-Park/"
   ]
  },
  {
   "cell_type": "code",
   "execution_count": 28,
   "metadata": {},
   "outputs": [
    {
     "name": "stdout",
     "output_type": "stream",
     "text": [
      "['Great Smoky Mountains National Park' 'Yosemite National Park'\n",
      " 'Bryce National Park' 'Yellowstone National Park']\n",
      "                                     size_sq_km  avg_elevation_m\n",
      "Bryce National Park                      145.02         2258.873\n",
      "Great Smoky Mountains National Park     2114.15          765.048\n",
      "Yellowstone National Park               8983.18         2449.982\n",
      "Yosemite National Park                  3074.10         2336.902\n"
     ]
    }
   ],
   "source": [
    "park_names = observations[\"park_name\"].unique()\n",
    "print(park_names)\n",
    "\n",
    "# park sizes are in square kilometers\n",
    "park_size_data = { \n",
    "    \"Bryce National Park\": [145.02, 1640.129, 2258.873, 2902.001],\n",
    "    \"Great Smoky Mountains National Park\": [2114.15, 249.936, 765.048, 2011.985],\n",
    "    \"Yellowstone National Park\": [8983.18, 1559.966, 2449.982, 3549.091], \n",
    "    \"Yosemite National Park\": [3074.1, 2336.902],\n",
    "}\n",
    "\n",
    "park_sizes = pd.DataFrame.from_dict(park_size_data, orient=\"index\", columns=[\"size_sq_km\", \"min_elevation_m\", \"avg_elevation_m\", \"max_elevation_m\"])\n"
   ]
  },
  {
   "cell_type": "markdown",
   "metadata": {},
   "source": [
    "## Question 1\n",
    "Observed species diversity per park\n",
    "\n",
    "Species diversity is a count of the number of different species observed per park."
   ]
  },
  {
   "cell_type": "code",
   "execution_count": 31,
   "metadata": {},
   "outputs": [
    {
     "ename": "AttributeError",
     "evalue": "'DataFrameGroupBy' object has no attribute 'count_values'",
     "output_type": "error",
     "traceback": [
      "\u001b[1;31m---------------------------------------------------------------------------\u001b[0m",
      "\u001b[1;31mAttributeError\u001b[0m                            Traceback (most recent call last)",
      "Cell \u001b[1;32mIn[31], line 1\u001b[0m\n\u001b[1;32m----> 1\u001b[0m species_per_park \u001b[38;5;241m=\u001b[39m \u001b[43mobservations\u001b[49m\u001b[38;5;241;43m.\u001b[39;49m\u001b[43mgroupby\u001b[49m\u001b[43m(\u001b[49m\u001b[38;5;124;43m\"\u001b[39;49m\u001b[38;5;124;43mpark_name\u001b[39;49m\u001b[38;5;124;43m\"\u001b[39;49m\u001b[43m)\u001b[49m\u001b[38;5;241;43m.\u001b[39;49m\u001b[43mcount_values\u001b[49m()\n\u001b[0;32m      2\u001b[0m \u001b[38;5;28mprint\u001b[39m(species_per_park)\n",
      "File \u001b[1;32mD:\\Applications\\Anaconda3\\lib\\site-packages\\pandas\\core\\groupby\\groupby.py:904\u001b[0m, in \u001b[0;36mGroupBy.__getattr__\u001b[1;34m(self, attr)\u001b[0m\n\u001b[0;32m    901\u001b[0m \u001b[38;5;28;01mif\u001b[39;00m attr \u001b[38;5;129;01min\u001b[39;00m \u001b[38;5;28mself\u001b[39m\u001b[38;5;241m.\u001b[39mobj:\n\u001b[0;32m    902\u001b[0m     \u001b[38;5;28;01mreturn\u001b[39;00m \u001b[38;5;28mself\u001b[39m[attr]\n\u001b[1;32m--> 904\u001b[0m \u001b[38;5;28;01mraise\u001b[39;00m \u001b[38;5;167;01mAttributeError\u001b[39;00m(\n\u001b[0;32m    905\u001b[0m     \u001b[38;5;124mf\u001b[39m\u001b[38;5;124m\"\u001b[39m\u001b[38;5;124m'\u001b[39m\u001b[38;5;132;01m{\u001b[39;00m\u001b[38;5;28mtype\u001b[39m(\u001b[38;5;28mself\u001b[39m)\u001b[38;5;241m.\u001b[39m\u001b[38;5;18m__name__\u001b[39m\u001b[38;5;132;01m}\u001b[39;00m\u001b[38;5;124m'\u001b[39m\u001b[38;5;124m object has no attribute \u001b[39m\u001b[38;5;124m'\u001b[39m\u001b[38;5;132;01m{\u001b[39;00mattr\u001b[38;5;132;01m}\u001b[39;00m\u001b[38;5;124m'\u001b[39m\u001b[38;5;124m\"\u001b[39m\n\u001b[0;32m    906\u001b[0m )\n",
      "\u001b[1;31mAttributeError\u001b[0m: 'DataFrameGroupBy' object has no attribute 'count_values'"
     ]
    }
   ],
   "source": [
    "species_per_park = observations.groupby(\"park_name\").count_values()\n",
    "print(species_per_park)"
   ]
  },
  {
   "cell_type": "code",
   "execution_count": null,
   "metadata": {},
   "outputs": [],
   "source": []
  }
 ],
 "metadata": {
  "kernelspec": {
   "display_name": "Python 3 (ipykernel)",
   "language": "python",
   "name": "python3"
  },
  "language_info": {
   "codemirror_mode": {
    "name": "ipython",
    "version": 3
   },
   "file_extension": ".py",
   "mimetype": "text/x-python",
   "name": "python",
   "nbconvert_exporter": "python",
   "pygments_lexer": "ipython3",
   "version": "3.9.17"
  }
 },
 "nbformat": 4,
 "nbformat_minor": 4
}
